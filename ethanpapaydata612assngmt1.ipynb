{
  "nbformat": 4,
  "nbformat_minor": 0,
  "metadata": {
    "colab": {
      "name": "data612assngmt1.ipynb",
      "provenance": [],
      "collapsed_sections": []
    },
    "kernelspec": {
      "name": "python3",
      "display_name": "Python 3"
    },
    "language_info": {
      "name": "python"
    }
  },
  "cells": [
    {
      "cell_type": "code",
      "metadata": {
        "id": "yreba0oGpmyl"
      },
      "source": [
        "def total_forloop():\n",
        "  x = int(input(\"First number in range? \"))\n",
        "  y = int(input(\"Second number in range? \"))\n",
        "  sum = 0\n",
        "  z = range(x, y+1)\n",
        "  for n in z:\n",
        "    sum = sum + n\n",
        "  print(\"Sum of numbers in the range:\", sum)"
      ],
      "execution_count": 119,
      "outputs": []
    },
    {
      "cell_type": "code",
      "metadata": {
        "id": "wUlR1-Fq3qMs",
        "colab": {
          "base_uri": "https://localhost:8080/"
        },
        "outputId": "6939e404-7f89-4fb2-9052-d89fc73ffbf7"
      },
      "source": [
        "total_forloop()"
      ],
      "execution_count": 120,
      "outputs": [
        {
          "output_type": "stream",
          "name": "stdout",
          "text": [
            "First number in range? 20\n",
            "Second number in range? 40\n",
            "Sum of numbers in the range: 630\n"
          ]
        }
      ]
    },
    {
      "cell_type": "code",
      "metadata": {
        "id": "-73lUCIkNgTz"
      },
      "source": [
        "def total_whileloop():\n",
        "  num1 = int(input(\"First number in range? \"))\n",
        "  num2 = int(input(\"Second number in range? \"))\n",
        "  if (num1 > num1):\n",
        "    return 0\n",
        "  result = 0\n",
        "  while (num1<=num2):\n",
        "      result = result + num1\n",
        "      num1 = num1 + 1\n",
        "  print(\"Sum of numbers in the range:\", sum)"
      ],
      "execution_count": 125,
      "outputs": []
    },
    {
      "cell_type": "code",
      "metadata": {
        "colab": {
          "base_uri": "https://localhost:8080/"
        },
        "id": "RnYqXucKNhHJ",
        "outputId": "a5d3a79d-cc74-4a15-b96c-ad13f972af63"
      },
      "source": [
        "total_whileloop()"
      ],
      "execution_count": 126,
      "outputs": [
        {
          "output_type": "stream",
          "name": "stdout",
          "text": [
            "First number in range? 20\n",
            "Second number in range? 40\n",
            "Sum of numbers in the range: 630\n"
          ]
        }
      ]
    }
  ]
}