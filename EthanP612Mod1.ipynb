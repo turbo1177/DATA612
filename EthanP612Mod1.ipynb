{
  "nbformat": 4,
  "nbformat_minor": 0,
  "metadata": {
    "colab": {
      "name": "Untitled0.ipynb",
      "provenance": []
    },
    "kernelspec": {
      "name": "python3",
      "display_name": "Python 3"
    },
    "language_info": {
      "name": "python"
    }
  },
  "cells": [
    {
      "cell_type": "code",
      "metadata": {
        "id": "eIGAp46cr8Xb"
      },
      "source": [
        "def total_forloop():\n",
        "  x = int(input(\"First number in range? \"))\n",
        "  y = int(input(\"Second number in range? \"))\n",
        "  sum = 0\n",
        "  z = range(x, y+1)\n",
        "  for n in z:\n",
        "    sum = sum + n\n",
        "  print(\"Sum of numbers in the range:\", sum)"
      ],
      "execution_count": null,
      "outputs": []
    },
    {
      "cell_type": "code",
      "metadata": {
        "id": "B-zJc1Ohr-NJ"
      },
      "source": [
        "total_forloop()"
      ],
      "execution_count": null,
      "outputs": []
    },
    {
      "cell_type": "code",
      "metadata": {
        "id": "JH75Vhqrr_kc"
      },
      "source": [
        "def total_whileloop():\n",
        "  num1 = int(input(\"First number in range? \"))\n",
        "  num2 = int(input(\"Second number in range? \"))\n",
        "  if (num1 > num1):\n",
        "    return 0\n",
        "  result = 0\n",
        "  while (num1<=num2):\n",
        "      result = result + num1\n",
        "      num1 = num1 + 1\n",
        "  print(\"Sum of numbers in the range:\", result)"
      ],
      "execution_count": null,
      "outputs": []
    },
    {
      "cell_type": "code",
      "metadata": {
        "id": "wWfSD8G2sA4H"
      },
      "source": [
        "total_whileloop()"
      ],
      "execution_count": null,
      "outputs": []
    }
  ]
}
